{
 "cells": [
  {
   "cell_type": "code",
   "execution_count": 1,
   "id": "d70a0084-2ae1-4757-8262-5b198d4919a5",
   "metadata": {},
   "outputs": [],
   "source": [
    "import whatsapp_bot as wpb\n",
    "import pandas as pd\n",
    "import numpy as np\n"
   ]
  },
  {
   "cell_type": "code",
   "execution_count": 2,
   "id": "63dedfd3-4ebc-4310-9a74-9a6bb415566a",
   "metadata": {},
   "outputs": [],
   "source": [
    "### datos de telefono \n",
    "#data={'phone_numbers':[965992236,954302730, 977183791,965992236, 981827783, 993453473, 966504433, 934091769],\"envio\": 0}\n",
    "# data={'phone_numbers':[965992236, 965992236],\"envio\": 0}\n",
    "# cont=pd.DataFrame(data)\n",
    "# cont[\"msj\"]=\"Prueba1\"\n",
    "# cont.to_csv(\"contactos.csv\", index=False)\n",
    "\n",
    "# df0= pd.read_csv('contactos.csv')\n",
    "# df0"
   ]
  },
  {
   "cell_type": "code",
   "execution_count": 3,
   "id": "f4c1e1e8-4d61-489d-a421-73ef3e0e1b5e",
   "metadata": {},
   "outputs": [
    {
     "data": {
      "text/html": [
       "<div>\n",
       "<style scoped>\n",
       "    .dataframe tbody tr th:only-of-type {\n",
       "        vertical-align: middle;\n",
       "    }\n",
       "\n",
       "    .dataframe tbody tr th {\n",
       "        vertical-align: top;\n",
       "    }\n",
       "\n",
       "    .dataframe thead th {\n",
       "        text-align: right;\n",
       "    }\n",
       "</style>\n",
       "<table border=\"1\" class=\"dataframe\">\n",
       "  <thead>\n",
       "    <tr style=\"text-align: right;\">\n",
       "      <th></th>\n",
       "      <th>phone_numbers</th>\n",
       "      <th>Estado</th>\n",
       "      <th>Estado de acreditación</th>\n",
       "      <th>proceso</th>\n",
       "      <th>alerta</th>\n",
       "      <th>DNIDIRECTIVO</th>\n",
       "      <th>sec_met</th>\n",
       "      <th>msj</th>\n",
       "    </tr>\n",
       "  </thead>\n",
       "  <tbody>\n",
       "    <tr>\n",
       "      <th>0</th>\n",
       "      <td>965992236</td>\n",
       "      <td>Apta para envío</td>\n",
       "      <td>Validado</td>\n",
       "      <td>1</td>\n",
       "      <td>SI</td>\n",
       "      <td>46456347</td>\n",
       "      <td>SI</td>\n",
       "      <td>Prueba1</td>\n",
       "    </tr>\n",
       "    <tr>\n",
       "      <th>1</th>\n",
       "      <td>965992236</td>\n",
       "      <td>Pendiente de envío</td>\n",
       "      <td>Validado</td>\n",
       "      <td>1</td>\n",
       "      <td>NO</td>\n",
       "      <td>46456347</td>\n",
       "      <td>NO</td>\n",
       "      <td>Prueba1</td>\n",
       "    </tr>\n",
       "  </tbody>\n",
       "</table>\n",
       "</div>"
      ],
      "text/plain": [
       "  phone_numbers              Estado Estado de acreditación  proceso alerta  \\\n",
       "0     965992236     Apta para envío               Validado        1     SI   \n",
       "1     965992236  Pendiente de envío               Validado        1     NO   \n",
       "\n",
       "  DNIDIRECTIVO sec_met      msj  \n",
       "0     46456347      SI  Prueba1  \n",
       "1     46456347      NO  Prueba1  "
      ]
     },
     "execution_count": 3,
     "metadata": {},
     "output_type": "execute_result"
    }
   ],
   "source": [
    "#data={'phone_numbers':[965992236, 981827783, 959658118, 954302730],'Estado':[\"Pendiente\",\"En proceso\",\"Pendiente\",\"En proceso\"],'Tipologia':[\"2\",\"4\",\"2\",\"4\"]}\n",
    "data={'phone_numbers':[\"965992236\",\"965992236\"],\n",
    "      'Estado':[\"Apta para envío\",\"Pendiente de envío\"],\n",
    "      'Estado de acreditación':[\"Validado\",\"Validado\"],\n",
    "      'proceso':[1, 1],\n",
    "      'alerta':[\"SI\",\"NO\"],\n",
    "      \"DNIDIRECTIVO\":[\"46456347\",\"46456347\"],\n",
    "      \"sec_met\":[\"SI\",\"NO\"]}\n",
    "df=pd.DataFrame(data)\n",
    "df[\"msj\"]=\"Prueba1\"\n",
    "df"
   ]
  },
  {
   "cell_type": "code",
   "execution_count": null,
   "id": "9096baf7-5c66-460c-b917-7068a1b56ce7",
   "metadata": {},
   "outputs": [
    {
     "name": "stdout",
     "output_type": "stream",
     "text": [
      "El número de filas de la BD es:  1\n"
     ]
    }
   ],
   "source": [
    "url_familias='https://docs.google.com/spreadsheets/d/1qFq33wsvbU8QhZeZ7utfX1GDxCHxYkdD/export?format=csv'\n",
    "url_msj='https://docs.google.com/spreadsheets/d/1DLrgfIjw0ekiazcohkX2YF_8Rsoa8OYi-0DOKZUIqNo/edit#gid=1620900866'\n",
    "\n",
    "wpb.execute_bot(url_bd=url_familias,\n",
    "                url_sms=url_msj,\n",
    "                user=\"gestionmatricula@gmail.com\",\n",
    "                pass_user=\"qwerty\",\n",
    "                familias=True,\n",
    "                tipologia_segui=9,\n",
    "                var_start=0,\n",
    "                var_end=1)"
   ]
  },
  {
   "cell_type": "code",
   "execution_count": 16,
   "id": "1a084482-80bc-4156-bdfb-474bf8109f08",
   "metadata": {},
   "outputs": [],
   "source": [
    "# url_msj='https://docs.google.com/spreadsheets/d/1DLrgfIjw0ekiazcohkX2YF_8Rsoa8OYi-0DOKZUIqNo/edit#gid=1620900866'\n",
    "# url_directivos_seguimiento=\"https://docs.google.com/spreadsheets/d/1k8LDr_niCN9lWJBGAQVSIv8Xb_xH5ppa/edit#gid=166209892\"\n",
    "# url_directivos_general=\"https://docs.google.com/spreadsheets/d/1-biLN4-QAVIL6oV9dfFMpgiNC2Itbs2V/edit#gid=2036506774\""
   ]
  },
  {
   "cell_type": "code",
   "execution_count": 6,
   "id": "f6169505-ebfb-48d2-a279-91fef2422eb3",
   "metadata": {},
   "outputs": [
    {
     "name": "stdout",
     "output_type": "stream",
     "text": [
      "El número de filas de la BD es:  2\n"
     ]
    },
    {
     "data": {
      "text/html": [
       "<div>\n",
       "<style scoped>\n",
       "    .dataframe tbody tr th:only-of-type {\n",
       "        vertical-align: middle;\n",
       "    }\n",
       "\n",
       "    .dataframe tbody tr th {\n",
       "        vertical-align: top;\n",
       "    }\n",
       "\n",
       "    .dataframe thead th {\n",
       "        text-align: right;\n",
       "    }\n",
       "</style>\n",
       "<table border=\"1\" class=\"dataframe\">\n",
       "  <thead>\n",
       "    <tr style=\"text-align: right;\">\n",
       "      <th></th>\n",
       "      <th>phone_numbers</th>\n",
       "      <th>statusdes</th>\n",
       "      <th>proceso</th>\n",
       "      <th>alerta</th>\n",
       "      <th>DNIDIRECTIVO</th>\n",
       "      <th>sec_met</th>\n",
       "      <th>msj</th>\n",
       "      <th>envio</th>\n",
       "    </tr>\n",
       "  </thead>\n",
       "  <tbody>\n",
       "    <tr>\n",
       "      <th>0</th>\n",
       "      <td>965992236</td>\n",
       "      <td>Registrado</td>\n",
       "      <td>1</td>\n",
       "      <td>SI</td>\n",
       "      <td>46456347</td>\n",
       "      <td>SI</td>\n",
       "      <td>Prueba1</td>\n",
       "      <td>1.0</td>\n",
       "    </tr>\n",
       "    <tr>\n",
       "      <th>1</th>\n",
       "      <td>965992236</td>\n",
       "      <td>En proceso</td>\n",
       "      <td>1</td>\n",
       "      <td>NO</td>\n",
       "      <td>46456347</td>\n",
       "      <td>NO</td>\n",
       "      <td>Prueba1</td>\n",
       "      <td>1.0</td>\n",
       "    </tr>\n",
       "  </tbody>\n",
       "</table>\n",
       "</div>"
      ],
      "text/plain": [
       "  phone_numbers   statusdes  proceso alerta DNIDIRECTIVO sec_met      msj  \\\n",
       "0     965992236  Registrado        1     SI     46456347      SI  Prueba1   \n",
       "1     965992236  En proceso        1     NO     46456347      NO  Prueba1   \n",
       "\n",
       "   envio  \n",
       "0    1.0  \n",
       "1    1.0  "
      ]
     },
     "execution_count": 6,
     "metadata": {},
     "output_type": "execute_result"
    }
   ],
   "source": [
    "url_msj='https://docs.google.com/spreadsheets/d/1DLrgfIjw0ekiazcohkX2YF_8Rsoa8OYi-0DOKZUIqNo/edit#gid=1620900866'\n",
    "url_directivos=\"https://docs.google.com/spreadsheets/d/1k8LDr_niCN9lWJBGAQVSIv8Xb_xH5ppa/edit#gid=166209892\"\n",
    "\n",
    "wpb.execute_bot(url_bd=df,\n",
    "                url_sms=url_msj,\n",
    "                user=\"whatsappoperador2@gmail.com\",\n",
    "                pass_user=\"Minedu2022*\",\n",
    "                test=True\n",
    "               )"
   ]
  },
  {
   "cell_type": "markdown",
   "id": "0ee82d95-46b8-4cd9-befd-bc3302a7ddd5",
   "metadata": {
    "jp-MarkdownHeadingCollapsed": true
   },
   "source": [
    "#### Tipologia para el envio de mensajes de seguimiento\n",
    "- 0: no registro nada (pendiente)\n",
    "- 1: proceso con metas\n",
    "- 2: proceso sin metas\n",
    "- 3: proceso que debería ser registrado\n",
    "- 4: con metas y con alertas"
   ]
  },
  {
   "cell_type": "code",
   "execution_count": null,
   "id": "c6f35e7f-4f84-4c14-9c49-535989945b56",
   "metadata": {},
   "outputs": [],
   "source": [
    "wpb.execute_bot(url_bd=df, url_sms=url_msj,\n",
    "                user=\"whatsappoperador2@gmail.com\",\n",
    "                pass_user=\"Minedu2022*\",\n",
    "                tipologia_segui=2,\n",
    "                first_report=True,\n",
    "                seguimiento=True,\n",
    "                test=True)"
   ]
  }
 ],
 "metadata": {
  "kernelspec": {
   "display_name": "Python 3 (ipykernel)",
   "language": "python",
   "name": "python3"
  },
  "language_info": {
   "codemirror_mode": {
    "name": "ipython",
    "version": 3
   },
   "file_extension": ".py",
   "mimetype": "text/x-python",
   "name": "python",
   "nbconvert_exporter": "python",
   "pygments_lexer": "ipython3",
   "version": "3.8.16"
  }
 },
 "nbformat": 4,
 "nbformat_minor": 5
}
